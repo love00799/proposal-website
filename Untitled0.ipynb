{
  "nbformat": 4,
  "nbformat_minor": 0,
  "metadata": {
    "colab": {
      "provenance": []
    },
    "kernelspec": {
      "name": "python3",
      "display_name": "Python 3"
    },
    "language_info": {
      "name": "python"
    }
  },
  "cells": [
    {
      "cell_type": "markdown",
      "source": [
        "q1 what is python and why it is popular ?\n",
        " => it is a programming language that is easy to understand and write"
      ],
      "metadata": {
        "id": "_kNIjlkkgriy"
      }
    },
    {
      "cell_type": "code",
      "execution_count": 1,
      "metadata": {
        "colab": {
          "base_uri": "https://localhost:8080/"
        },
        "id": "fY8F7k8K82kS",
        "outputId": "25089d65-c72b-4869-c848-eefdb4afa4dc"
      },
      "outputs": [
        {
          "output_type": "stream",
          "name": "stdout",
          "text": [
            "hello world\n"
          ]
        }
      ],
      "source": [
        "# write a python code to print \"hello world\"\n",
        "print(\"hello world\");"
      ]
    },
    {
      "cell_type": "code",
      "source": [
        "# write a python code to display your name and age\n",
        "name = \"prince kumar\"\n",
        "age = \"23\"\n",
        "print(\"name:\", name)\n",
        "print(\"age:\", age)\n"
      ],
      "metadata": {
        "id": "x8TYQhaIP_p8",
        "colab": {
          "base_uri": "https://localhost:8080/"
        },
        "outputId": "17f87ffb-a1b3-45f2-8c9c-aa739c315523"
      },
      "execution_count": 3,
      "outputs": [
        {
          "output_type": "stream",
          "name": "stdout",
          "text": [
            "name: prince kumar\n",
            "age: 23\n"
          ]
        }
      ]
    }
  ]
}